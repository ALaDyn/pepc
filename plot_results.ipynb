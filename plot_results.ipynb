{
 "cells": [
  {
   "cell_type": "code",
   "execution_count": null,
   "id": "6d6fa73e",
   "metadata": {},
   "outputs": [],
   "source": [
    "# Check/import environment to control notebook from CI\n",
    "ENV = %env\n",
    "try:\n",
    "    ENV['BRANCH']\n",
    "    branch=ENV['BRANCH']\n",
    "except:\n",
    "    branch=\"master\""
   ]
  },
  {
   "cell_type": "code",
   "execution_count": null,
   "id": "3761a2f7",
   "metadata": {},
   "outputs": [],
   "source": [
    "# Continuous Benchmarking Results for PEPC"
   ]
  },
  {
   "cell_type": "code",
   "execution_count": null,
   "id": "4ae31c00",
   "metadata": {},
   "outputs": [],
   "source": [
    "from IPython.display import Markdown as md\n",
    "md(\"# Branch: %s\"%(branch))"
   ]
  },
  {
   "cell_type": "markdown",
   "id": "6444c8b5",
   "metadata": {},
   "source": [
    "Plots are interactive and can be zoomed, shifted, and data shown can be selected (via the legend). Double click to reset."
   ]
  },
  {
   "cell_type": "code",
   "execution_count": null,
   "id": "89cf3983-9f52-4f80-95dc-37e0a0d81bea",
   "metadata": {
    "tags": []
   },
   "outputs": [],
   "source": [
    "import sqlite3\n",
    "\n",
    "import pandas as pd\n",
    "import plotly.express as px\n",
    "\n",
    "# Define config options for plotly\n",
    "px_config = dict({'scrollZoom': True, \"displaylogo\": False,'modeBarButtonsToRemove': ['lasso2d']}) # enable scroll/finger-zoom, hide plotly logo\n",
    "# Check environment to decide on renderer\n",
    "\n",
    "try:\n",
    "    ENV['RENDER_CI']\n",
    "    px_renderer = \"notebook_connected\" # \"notebook_connected\" will use CDNs for .js files instead of including them, this will break offline use\n",
    "except:\n",
    "    px_renderer = \"jupyterlab\" # render for the interactive jupyterlab"
   ]
  },
  {
   "cell_type": "code",
   "execution_count": null,
   "id": "3d7cdc92-463d-46fa-b2e7-b5810b43a7da",
   "metadata": {},
   "outputs": [],
   "source": [
    "# Create connection to database to read JUBE data\n",
    "cnx = sqlite3.connect(\"../\"+branch+\"/result_database.sqlite\")\n",
    "# Read date into Pandas dataframe\n",
    "df = pd.read_sql_query(\"SELECT * FROM full_results\", cnx)\n",
    "# Display dataframe\n",
    "#df\n",
    "# Find/display all columns contained in dataframe\n",
    "#for col in df.columns:\n",
    "#   print(col)"
   ]
  },
  {
   "cell_type": "code",
   "execution_count": null,
   "id": "61dda4c7-265f-45cf-9ca2-a41b206a4c2f",
   "metadata": {},
   "outputs": [],
   "source": [
    "# Rename some columns to be 'prettier'\n",
    "df.rename(\n",
    "    columns={\n",
    "        \"walk\": \"Tree Walk\",\n",
    "        \"nodes\": \"Nodes\",\n",
    "        \"chksum\": \"commit\",\n",
    "        \"threads\": \"Threads\",\n",
    "        \"particles\": \"Particles\",\n",
    "        \"list_of_mpis\": \"Toolchain\",\n",
    "        \"systemname\": \"System\",\n",
    "        \"jube_benchmark_padid\": \"Id\",\n",
    "        \"taskspnode\": \"Tasks per node\",\n",
    "        \"part_per_thrd\": \"Particles per thread\",\n",
    "        \"wallclock_cnt\": \"Iterations\",\n",
    "        \"timesteps\": \"Steps\",\n",
    "        \"tree_walk_cnt\": \"Timesteps\",\n",
    "        \"wallclock_min\": \"Wallclock [s] (min)\",\n",
    "        \"wallclock_avg\": \"Wallclock [s]\",\n",
    "        \"wallclock_max\": \"Wallclock [s] (max)\",\n",
    "        \"tree_walk_min\": \"Tree Walk [s] (min)\",\n",
    "        \"tree_walk_avg\": \"Tree Walk [s]\",\n",
    "        \"tree_walk_max\": \"Tree Walk [s] (max)\",\n",
    "        \"tree_grow_min\": \"Tree Grow [s] (min)\",\n",
    "        \"tree_grow_avg\": \"Tree Grow [s]\",\n",
    "        \"tree_grow_max\": \"Tree Grow [s] (max)\",\n",
    "        \"comm_recv_min\": \"Comm Receive [s] (min)\",\n",
    "        \"comm_recv_avg\": \"Comm Receive [s]\",\n",
    "        \"comm_recv_max\": \"Comm Receive [s] (max)\",\n",
    "        \"comm_reqs_min\": \"Comm Request [s] (min)\",\n",
    "        \"comm_reqs_avg\": \"Comm Request [s]\",\n",
    "        \"comm_reqs_max\": \"Comm Request [s] (max)\",\n",
    "        \"step_time_min\": \"Step Time [s] (min)\",\n",
    "        \"step_time_avg\": \"Step Time [s]\",\n",
    "        \"step_time_max\": \"Step Time [s] (max)\",\n",
    "    },\n",
    "    inplace=True,\n",
    ")"
   ]
  },
  {
   "cell_type": "code",
   "execution_count": null,
   "id": "ef39aaa8",
   "metadata": {},
   "outputs": [],
   "source": [
    "# Convert '--all --long' checksum to only the SHA hash\n",
    "df[\"commit\"]=df[\"commit\"].str.replace('.*-g','',regex=True)"
   ]
  },
  {
   "cell_type": "markdown",
   "id": "5c9f16c0-3b22-49f6-b73a-5a1cea0f5b9a",
   "metadata": {},
   "source": [
    "## Overall timings"
   ]
  },
  {
   "cell_type": "markdown",
   "id": "24268dce-df09-4792-b417-e93f74265dbd",
   "metadata": {},
   "source": [
    "The solid red line represents a trend in form of a sliding average of 3 values."
   ]
  },
  {
   "cell_type": "code",
   "execution_count": null,
   "id": "2c3dd156-a23a-45d8-88ac-875bca711eb6",
   "metadata": {
    "tags": []
   },
   "outputs": [],
   "source": [
    "# Plot all benchmarks and systems in a grid\n",
    "\n",
    "# Get number of result sets to scale size of plot\n",
    "height = 0\n",
    "for System in df[\"System\"].unique():\n",
    "#    height = max(height, len(df[df[\"System\"] == System][\"benchmark\"].unique()) * 400)\n",
    "    fig = px.scatter(\n",
    "        df,\n",
    "        x=\"Id\",\n",
    "        y=\"Wallclock [s]\",\n",
    "        #facet_col=\"System\",\n",
    "        marginal_y=\"rug\",\n",
    "        title=System.upper(),\n",
    "        trendline=\"rolling\",\n",
    "        trendline_options=dict(window=3),\n",
    "        trendline_color_override=\"red\",\n",
    "        #height=height,\n",
    "    )\n",
    "    fig.show(config=px_config)#, renderer=px_renderer)"
   ]
  },
  {
   "cell_type": "markdown",
   "id": "bc4349a2-0dc6-4c80-adde-43a1ced3988a",
   "metadata": {},
   "source": [
    "### Statistics from all runs"
   ]
  },
  {
   "cell_type": "code",
   "execution_count": null,
   "id": "4775f530-c1ec-4735-95f7-771996cf548b",
   "metadata": {},
   "outputs": [],
   "source": [
    "# Display stats for selected columns\n",
    "for System in df[\"System\"].unique():\n",
    "    print(\"System: \" + System.upper())\n",
    "    display(\n",
    "        df[(df[\"System\"] == System)][\n",
    "            [\n",
    "                \"Wallclock [s]\",\n",
    "                \"Step Time [s]\",\n",
    "                \"Tree Walk [s]\",\n",
    "                \"Tree Grow [s]\",\n",
    "                \"Comm Receive [s]\",\n",
    "                \"Comm Request [s]\",\n",
    "            ]\n",
    "        ].describe()\n",
    "    )"
   ]
  },
  {
   "cell_type": "markdown",
   "id": "77eb01e2-940d-43d8-a9db-34b04836fac8",
   "metadata": {},
   "source": [
    "## Results for each individual timer for each system"
   ]
  },
  {
   "cell_type": "code",
   "execution_count": null,
   "id": "f3ea5507-7ed1-4b65-82e0-4af4a57605ef",
   "metadata": {
    "tags": []
   },
   "outputs": [],
   "source": [
    "# Massage our jube results to combine all timers\n",
    "df_melt = df.melt(\n",
    "    id_vars=[\n",
    "        \"Id\",\n",
    "        \"commit\",\n",
    "        \"System\",\n",
    "        \"Toolchain\",\n",
    "        \"Nodes\",\n",
    "        \"Tasks per node\",\n",
    "        \"Threads\",\n",
    "        \"total_threads\",\n",
    "        \"Wallclock [s]\",\n",
    "    ],\n",
    "    value_vars=[\n",
    "        \"Tree Walk [s]\",\n",
    "        \"Tree Grow [s]\",\n",
    "        \"Comm Receive [s]\",\n",
    "        \"Comm Request [s]\",\n",
    "        \"Step Time [s]\",\n",
    "    ],\n",
    "    var_name=\"Timer\",\n",
    "    value_name=\"Time [s]\",\n",
    ")"
   ]
  },
  {
   "cell_type": "code",
   "execution_count": null,
   "id": "da9dc986-5ebb-44d5-a016-ff0699659398",
   "metadata": {
    "tags": []
   },
   "outputs": [],
   "source": [
    "# Generate plots for each of the listed systems\n",
    "\n",
    "for System in df_melt[\"System\"].unique():\n",
    "    ## Get number of result sets to scale size of plot\n",
    "    #height = len(df_melt[df_melt[\"System\"] == System][\"benchmark\"].unique()) * 400\n",
    "    fig = px.scatter(\n",
    "        df_melt[df_melt[\"System\"] == System],\n",
    "        x=\"commit\",\n",
    "        y=\"Time [s]\",\n",
    "        color=\"Timer\",\n",
    "        symbol=\"Timer\",\n",
    "        marginal_y=\"rug\",\n",
    "        #facet_row=\"benchmark\",\n",
    "        title=System.upper(),\n",
    "        #height=height,\n",
    "    )\n",
    "    fig.show(config=px_config)#, renderer=px_renderer)"
   ]
  },
  {
   "cell_type": "code",
   "execution_count": null,
   "id": "8a2cf145",
   "metadata": {},
   "outputs": [],
   "source": []
  }
 ],
 "metadata": {
  "kernelspec": {
   "display_name": "Python 3 (ipykernel)",
   "language": "python",
   "name": "python3"
  },
  "language_info": {
   "codemirror_mode": {
    "name": "ipython",
    "version": 3
   },
   "file_extension": ".py",
   "mimetype": "text/x-python",
   "name": "python",
   "nbconvert_exporter": "python",
   "pygments_lexer": "ipython3",
   "version": "3.11.2"
  },
  "title": "JuSPIC - Continuous Benchmarking"
 },
 "nbformat": 4,
 "nbformat_minor": 5
}
